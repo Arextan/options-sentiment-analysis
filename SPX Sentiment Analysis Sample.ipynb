{
 "cells": [
  {
   "cell_type": "markdown",
   "id": "88655ed1",
   "metadata": {},
   "source": [
    "# SPX Sentiment Analysis\n",
    "\n",
    "Data source: TD Ameritrade Thinkorswim (Time and Sales)\n",
    "\n",
    "Since there is no method that I am aware of to export Thinkorswim's Time and Sales data to Excel, the data is manually copy and pasted daily to the excel sheet: 'spx_options_timesales.xlsx'. Other sources require a subscription (i.e. $69/month), so is such the price of free market data?\n",
    "\n",
    "The Thinkorswim Time and Sales features allows me to filter some data, which I took the liberty in the following way to remove small position sizes and low prices:\n",
    "\n",
    "#### Option Time & Sales filter:\n",
    "* Type: Calls and Puts\n",
    "* Time series: Monthly Expirations from front month to next quarterly option's expiration (OpEx)\n",
    "* Strikes: All\n",
    "* Exchange: All\n",
    "* Quantity: Lot >= 10\n",
    "* Price: $ >= 10\n",
    "* Condition: None selected (Spreads, Straddle, BuyWrite, Combo)\n"
   ]
  },
  {
   "cell_type": "code",
   "execution_count": 18,
   "id": "12f23215",
   "metadata": {},
   "outputs": [
    {
     "name": "stdout",
     "output_type": "stream",
     "text": [
      "Today's date is:  2022-08-03 00:00:00\n"
     ]
    },
    {
     "data": {
      "text/html": [
       "<div>\n",
       "<style scoped>\n",
       "    .dataframe tbody tr th:only-of-type {\n",
       "        vertical-align: middle;\n",
       "    }\n",
       "\n",
       "    .dataframe tbody tr th {\n",
       "        vertical-align: top;\n",
       "    }\n",
       "\n",
       "    .dataframe thead th {\n",
       "        text-align: right;\n",
       "    }\n",
       "</style>\n",
       "<table border=\"1\" class=\"dataframe\">\n",
       "  <thead>\n",
       "    <tr style=\"text-align: right;\">\n",
       "      <th></th>\n",
       "      <th>Time</th>\n",
       "      <th>Option</th>\n",
       "      <th>Qty</th>\n",
       "      <th>Price</th>\n",
       "      <th>Exchange</th>\n",
       "      <th>Market</th>\n",
       "      <th>Delta</th>\n",
       "      <th>IV</th>\n",
       "      <th>Underlying</th>\n",
       "    </tr>\n",
       "  </thead>\n",
       "  <tbody>\n",
       "    <tr>\n",
       "      <th>0</th>\n",
       "      <td>13:33:08</td>\n",
       "      <td>16 SEP 22 4150 C</td>\n",
       "      <td>118</td>\n",
       "      <td>113.90</td>\n",
       "      <td>CBOE</td>\n",
       "      <td>113.60x114.90</td>\n",
       "      <td>0.55</td>\n",
       "      <td>0.1765</td>\n",
       "      <td>4155.17</td>\n",
       "    </tr>\n",
       "    <tr>\n",
       "      <th>1</th>\n",
       "      <td>13:30:13</td>\n",
       "      <td>16 SEP 22 4150 P</td>\n",
       "      <td>118</td>\n",
       "      <td>111.90</td>\n",
       "      <td>CBOE</td>\n",
       "      <td>111.30x112.30</td>\n",
       "      <td>-0.45</td>\n",
       "      <td>0.2169</td>\n",
       "      <td>4155.17</td>\n",
       "    </tr>\n",
       "    <tr>\n",
       "      <th>2</th>\n",
       "      <td>13:29:01</td>\n",
       "      <td>21 OCT 22 4490 C</td>\n",
       "      <td>200</td>\n",
       "      <td>33.15</td>\n",
       "      <td>CBOE</td>\n",
       "      <td>32.50x33.50</td>\n",
       "      <td>0.19</td>\n",
       "      <td>0.165</td>\n",
       "      <td>4155.17</td>\n",
       "    </tr>\n",
       "    <tr>\n",
       "      <th>3</th>\n",
       "      <td>13:29:01</td>\n",
       "      <td>21 OCT 22 3400 P</td>\n",
       "      <td>200</td>\n",
       "      <td>19.40</td>\n",
       "      <td>CBOE</td>\n",
       "      <td>19.30x19.80</td>\n",
       "      <td>-0.07</td>\n",
       "      <td>0.3177</td>\n",
       "      <td>4155.17</td>\n",
       "    </tr>\n",
       "    <tr>\n",
       "      <th>4</th>\n",
       "      <td>13:29:01</td>\n",
       "      <td>21 OCT 22 3375 P</td>\n",
       "      <td>200</td>\n",
       "      <td>18.05</td>\n",
       "      <td>CBOE</td>\n",
       "      <td>17.90x18.40</td>\n",
       "      <td>-0.06</td>\n",
       "      <td>0.321</td>\n",
       "      <td>4155.17</td>\n",
       "    </tr>\n",
       "  </tbody>\n",
       "</table>\n",
       "</div>"
      ],
      "text/plain": [
       "       Time            Option  Qty   Price Exchange         Market  Delta  \\\n",
       "0  13:33:08  16 SEP 22 4150 C  118  113.90     CBOE  113.60x114.90   0.55   \n",
       "1  13:30:13  16 SEP 22 4150 P  118  111.90     CBOE  111.30x112.30  -0.45   \n",
       "2  13:29:01  21 OCT 22 4490 C  200   33.15     CBOE    32.50x33.50   0.19   \n",
       "3  13:29:01  21 OCT 22 3400 P  200   19.40     CBOE    19.30x19.80  -0.07   \n",
       "4  13:29:01  21 OCT 22 3375 P  200   18.05     CBOE    17.90x18.40  -0.06   \n",
       "\n",
       "       IV  Underlying  \n",
       "0  0.1765     4155.17  \n",
       "1  0.2169     4155.17  \n",
       "2   0.165     4155.17  \n",
       "3  0.3177     4155.17  \n",
       "4   0.321     4155.17  "
      ]
     },
     "execution_count": 18,
     "metadata": {},
     "output_type": "execute_result"
    }
   ],
   "source": [
    "import pandas as pd\n",
    "import matplotlib.pyplot as plt\n",
    "import numpy as np\n",
    "import datetime\n",
    "\n",
    "df = pd.read_excel('spx_options_timesales_aug3.xlsx') # data from 8/3/2022\n",
    "\n",
    "# today = date.today()\n",
    "today = datetime.datetime(2022,8,3) # dataset's date\n",
    "print(\"Today's date is: \", today)\n",
    "\n",
    "df.head()"
   ]
  },
  {
   "cell_type": "markdown",
   "id": "5312eaa7",
   "metadata": {},
   "source": [
    "## Data Cleaning"
   ]
  },
  {
   "cell_type": "code",
   "execution_count": 19,
   "id": "0374f8de",
   "metadata": {},
   "outputs": [],
   "source": [
    "# include only trades between market hours (6:30am PST - 13:15pm PST)\n",
    "\n",
    "market_open = pd.to_datetime('06:30:00', format='%H:%M:%S')\n",
    "market_close = pd.to_datetime('13:15:00', format='%H:%M:%S')\n",
    "\n",
    "df['Time'] = pd.to_datetime(df['Time'], format='%H:%M:%S')\n",
    "\n",
    "df = df[(df['Time'] >= market_open) & (df['Time'] <= market_close)]\n",
    "\n",
    "# revert time column to original format\n",
    "# df['Time'] = pd.to_datetime(df['Time'], format='%H:%M:%S').dt.time"
   ]
  },
  {
   "cell_type": "code",
   "execution_count": 20,
   "id": "c25ab4e2",
   "metadata": {
    "scrolled": true
   },
   "outputs": [],
   "source": [
    "# separate bid and ask\n",
    "\n",
    "df[['Bid','Ask']] = df['Market'].str.split('x', expand=True).astype(float)\n",
    "\n",
    "# add mid price\n",
    "\n",
    "df['Mid'] = (df['Bid'] + df['Ask'])/2"
   ]
  },
  {
   "cell_type": "code",
   "execution_count": 21,
   "id": "39f5ff4d",
   "metadata": {},
   "outputs": [],
   "source": [
    "# calculate premium\n",
    "\n",
    "df['Premium'] = df['Qty'] * df['Price'] * 100"
   ]
  },
  {
   "cell_type": "code",
   "execution_count": 22,
   "id": "b45c2971",
   "metadata": {},
   "outputs": [],
   "source": [
    "# separate option data (expiry date, strike price, type)\n",
    "\n",
    "df['Expiry Date'] = df['Option'].str[:9]\n",
    "strike_type = df['Option'].str[10:]\n",
    "df[['Strike Price','Type']] = strike_type.str.split(' ', expand = True)"
   ]
  },
  {
   "cell_type": "code",
   "execution_count": 23,
   "id": "b6d6ad01",
   "metadata": {},
   "outputs": [],
   "source": [
    "# separate calls from puts\n",
    "\n",
    "df_calls = df[df['Type'] == 'C']\n",
    "df_puts = df[df['Type'] == 'P']"
   ]
  },
  {
   "cell_type": "markdown",
   "id": "84028581",
   "metadata": {},
   "source": [
    "## Analysis\n",
    "\n",
    "Sentiment is inferred by judging whether an order is purchased above or below market (midpoint between bid and ask). If the option was traded above market, then it is considered bought. If the option was traded below market, then it is considered sold. If the option was traded exactly at market price, then it is unclear whether it was bought or sold and is left out of this analysis. "
   ]
  },
  {
   "cell_type": "code",
   "execution_count": 24,
   "id": "bc61dbe8",
   "metadata": {},
   "outputs": [],
   "source": [
    "# differentiate between option buying vs option selling\n",
    "\n",
    "# calls bought and sold\n",
    "\n",
    "df_cbot = df_calls[df_calls['Price'] > df_calls['Mid']]\n",
    "df_csold = df_calls[df_calls['Price'] < df_calls['Mid']]\n",
    "\n",
    "# puts bought and sold\n",
    "\n",
    "df_pbot = df_puts[df_puts['Price'] > df_puts['Mid']]\n",
    "df_psold = df_puts[df_puts['Price'] < df_puts['Mid']]"
   ]
  },
  {
   "cell_type": "code",
   "execution_count": 25,
   "id": "ec6df432",
   "metadata": {},
   "outputs": [],
   "source": [
    "# Divide options traded among near term, next quarterly OpEx, and end of day (EOD)\n",
    "\n",
    "# Gather the months from the data\n",
    "\n",
    "calendar = ['JAN','FEB','MAR','APR','MAY','JUN','JUL','AUG','SEP','OCT','NOV','DEC']\n",
    "\n",
    "months = [month for month in calendar if df['Expiry Date'].str.contains(month).any()]\n",
    "\n",
    "# Locate the two front month expirations\n",
    "\n",
    "front_month = months[0]\n",
    "next_month = months[1]\n",
    "\n",
    "# front month calls bought and sold\n",
    "\n",
    "df_cbot_fm = df_cbot[df_cbot['Expiry Date'].str.contains(front_month)]\n",
    "df_csold_fm = df_csold[df_csold['Expiry Date'].str.contains(front_month)]\n",
    "\n",
    "# front month bought and sold\n",
    "\n",
    "df_pbot_fm = df_pbot[df_pbot['Expiry Date'].str.contains(front_month)]\n",
    "df_psold_fm = df_psold[df_psold['Expiry Date'].str.contains(front_month)]\n",
    "\n",
    "# next month calls bought and sold\n",
    "\n",
    "df_cbot_nm = df_cbot[df_cbot['Expiry Date'].str.contains(next_month)]\n",
    "df_csold_nm = df_csold[df_csold['Expiry Date'].str.contains(next_month)]\n",
    "\n",
    "# next month bought and sold\n",
    "\n",
    "df_pbot_nm = df_pbot[df_pbot['Expiry Date'].str.contains(next_month)]\n",
    "df_psold_nm = df_psold[df_psold['Expiry Date'].str.contains(next_month)]"
   ]
  },
  {
   "cell_type": "code",
   "execution_count": 26,
   "id": "d5d6db42",
   "metadata": {},
   "outputs": [],
   "source": [
    "# next quarterly Opex \n",
    "\n",
    "OpEx = ['MAR','JUN','SEP','DEC']\n",
    "\n",
    "# check if the last month in the data falls on a quarterly OpEx\n",
    "if any(months[-1] == ex for ex in OpEx) == False:\n",
    "    print('Quarterly OpEx month is invalid')\n",
    "    quit()\n",
    "    \n",
    "# Locate the two further month expirations\n",
    "far_month = months[2:]\n",
    "\n",
    "# further term calls bought and sold\n",
    "\n",
    "df_cbot_ft = df_cbot[df_cbot['Expiry Date'].str.contains('|'.join(far_month))]\n",
    "df_csold_ft = df_csold[df_csold['Expiry Date'].str.contains('|'.join(far_month))]\n",
    "\n",
    "# further term puts bought and sold\n",
    "\n",
    "df_pbot_ft = df_pbot[df_pbot['Expiry Date'].str.contains('|'.join(far_month))]\n",
    "df_psold_ft = df_psold[df_psold['Expiry Date'].str.contains('|'.join(far_month))]"
   ]
  },
  {
   "cell_type": "code",
   "execution_count": 27,
   "id": "5118ba7f",
   "metadata": {
    "scrolled": false
   },
   "outputs": [],
   "source": [
    "# isolate EOD contracts (last 20 minutes)\n",
    "\n",
    "# EOD calls bought and sold\n",
    "\n",
    "df_cbot_eod = df_cbot[df_cbot['Time'] >= pd.to_datetime('12:55:00', format='%H:%M:%S')]\n",
    "df_csold_eod = df_csold[df_csold['Time'] >= pd.to_datetime('12:55:00', format='%H:%M:%S')]\n",
    "\n",
    "# puts bought/sold\n",
    "\n",
    "df_pbot_eod = df_pbot[df_pbot['Time'] >= pd.to_datetime('12:55:00', format='%H:%M:%S')]\n",
    "df_psold_eod = df_psold[df_psold['Time'] >= pd.to_datetime('12:55:00', format='%H:%M:%S')]"
   ]
  },
  {
   "cell_type": "code",
   "execution_count": 28,
   "id": "0e4468bc",
   "metadata": {},
   "outputs": [
    {
     "name": "stdout",
     "output_type": "stream",
     "text": [
      "Key: [Calls Bought, Calls Sold, Puts Bought, Puts Sold]\n",
      "AUG: [35.9, 36.3, 11.7, 16.1]\n",
      "SEP: [8.4, 55.7, 25.0, 10.9]\n",
      "OCT-DEC: [48.1, 36.0, 8.5, 7.4]\n",
      "EOD: [3.5, 65.8, 26.4, 4.4]\n"
     ]
    }
   ],
   "source": [
    "# calculate option market sentiment\n",
    "\n",
    "# front month \n",
    "\n",
    "fm_sums = [df_cbot_fm['Premium'].sum(), df_csold_fm['Premium'].sum(), df_pbot_fm['Premium'].sum(), df_psold_fm['Premium'].sum()]\n",
    "fm_total = sum(fm_sums)\n",
    "fm_ratio = [(fm_sums[i] / fm_total * 100).round(1) for i in range(4)]\n",
    "\n",
    "# next month\n",
    "\n",
    "nm_sums = [df_cbot_nm['Premium'].sum(), df_csold_nm['Premium'].sum(), df_pbot_nm['Premium'].sum(), df_psold_nm['Premium'].sum()]\n",
    "nm_total = sum(nm_sums)\n",
    "nm_ratio = [(nm_sums[i] / nm_total * 100).round(1) for i in range(4)]\n",
    "\n",
    "# months till next quarterly OpEx\n",
    "\n",
    "ft_sums = [df_cbot_ft['Premium'].sum(), df_csold_ft['Premium'].sum(), df_pbot_ft['Premium'].sum(), df_psold_ft['Premium'].sum()]\n",
    "ft_total = sum(ft_sums)\n",
    "ft_ratio = [(ft_sums[i] / ft_total * 100).round(1) for i in range(4)]\n",
    "\n",
    "# months till next quarterly OpEx\n",
    "\n",
    "eod_sums = \\\n",
    "    [df_cbot_eod['Premium'].sum(), df_csold_eod['Premium'].sum(), df_pbot_eod['Premium'].sum(), df_psold_eod['Premium'].sum()]\n",
    "eod_total = sum(eod_sums)\n",
    "eod_ratio = [(eod_sums[i] / eod_total * 100).round(1) for i in range(4)]\n",
    "\n",
    "print('Key: [Calls Bought, Calls Sold, Puts Bought, Puts Sold]\\n{}: {}\\n{}: {}\\n{}: {}\\nEOD: {}'.format(\n",
    "    front_month, fm_ratio, next_month, nm_ratio, months[2] + '-' + months[-1], ft_ratio, eod_ratio))"
   ]
  },
  {
   "cell_type": "code",
   "execution_count": 29,
   "id": "799bf948",
   "metadata": {},
   "outputs": [
    {
     "name": "stdout",
     "output_type": "stream",
     "text": [
      "Total Premium: $125765199\n",
      "Bought: 61.8%\n",
      "Sold: 38.2%\n"
     ]
    }
   ],
   "source": [
    "# near term put premium summary calculations\n",
    "\n",
    "pbot = df_pbot_fm['Premium'].sum() + df_pbot_nm['Premium'].sum()\n",
    "psold = df_psold_fm['Premium'].sum() + df_psold_nm['Premium'].sum()\n",
    "\n",
    "psum = (pbot + psold).astype('int64')\n",
    "pperbot = (pbot / psum * 100).round(1)\n",
    "ppersold = (psold / psum * 100).round(1)\n",
    "\n",
    "print('Total Premium: ${}\\nBought: {}%\\nSold: {}%'.format(psum, pperbot, ppersold))"
   ]
  },
  {
   "cell_type": "markdown",
   "id": "25e3a2bd",
   "metadata": {},
   "source": [
    "## Visualization"
   ]
  },
  {
   "cell_type": "code",
   "execution_count": 30,
   "id": "02131548",
   "metadata": {
    "scrolled": false
   },
   "outputs": [
    {
     "data": {
      "image/png": "[encoded data removed]",
      "text/plain": [
       "<Figure size 800x800 with 4 Axes>"
      ]
     },
     "metadata": {},
     "output_type": "display_data"
    }
   ],
   "source": [
    "%matplotlib inline\n",
    "\n",
    "labels = 'Calls Bought', 'Calls Sold', 'Puts Bought', 'Puts Sold'\n",
    "colors = ['steelblue','firebrick','maroon','skyblue']\n",
    "explode = [0.02, 0.02, 0.02, 0.02]\n",
    "\n",
    "fig,ax = plt.subplots(2, 2, figsize = (8,8), dpi = 100)\n",
    "\n",
    "ax[0,0].pie(fm_ratio, explode = explode, colors = colors, autopct = '%1.1f%%', startangle=90)\n",
    "ax[0,0].set_title(front_month)\n",
    "\n",
    "ax[0,1].pie(nm_ratio, explode = explode, colors = colors, autopct = '%1.1f%%', startangle=90)\n",
    "ax[0,1].set_title(next_month)\n",
    "\n",
    "ax[1,0].pie(ft_ratio, explode = explode, colors = colors, autopct = '%1.1f%%', startangle=90)\n",
    "ax[1,0].set_title(months[2] + ' - ' + months[-1])\n",
    "\n",
    "ax[1,1].pie(eod_ratio, explode = explode, colors = colors, autopct = '%1.1f%%', startangle=90)\n",
    "ax[1,1].set_title('EOD')\n",
    "\n",
    "plt.legend(labels, bbox_to_anchor=(1.6,1.9))\n",
    "\n",
    "plt.show()"
   ]
  },
  {
   "cell_type": "code",
   "execution_count": 31,
   "id": "f9e0dfcc",
   "metadata": {
    "scrolled": true
   },
   "outputs": [
    {
     "data": {
      "image/png": "[encoded data removed]",
      "text/plain": [
       "<Figure size 640x240 with 1 Axes>"
      ]
     },
     "metadata": {
      "needs_background": "light"
     },
     "output_type": "display_data"
    }
   ],
   "source": [
    "fig1, ax1 = plt.subplots(figsize = (8,3), dpi = 80)\n",
    "\n",
    "hbar = ax1.barh(['Bought', 'Sold'], [pperbot, ppersold], color = ['firebrick','steelblue'])\n",
    "ax1.set_title('Near Term Put Premium (Total = $' + str(psum) + ')')\n",
    "ax1.set_xlabel('Percent')\n",
    "ax1.bar_label(hbar, fmt = '%1.1f%%')\n",
    "ax1.xaxis.set_ticks(np.arange(0, 110, 10))\n",
    "\n",
    "plt.show()"
   ]
  },
  {
   "cell_type": "markdown",
   "id": "44475ef0",
   "metadata": {},
   "source": [
    "## Conclusion\n",
    "\n",
    "From the graphics, we can infer the following: \n",
    "* Greater call option purchases than puts (short term bullish)\n",
    "* Aug-Sep saw significant call writing with Sep put purchasing (short term bearish)\n",
    "* EOD: traders are shedding their calls and purchasing puts as insurance (bearish)\n",
    "\n",
    "In short, end of day hedging activity may mark the end of this week's bullish run. Until August 19, it is possible for the bullish trend to continue, since more calls were bought today than yesterday. However, bearish option sentiment for the September expiry predicts potential headwinds coming soon. While call buying dominated in the October through December monthlies today, bearish option traders were more prevalent in the past week. Meanwhile the near term put premium chart does not illustrate market fragility yet. Once puts bought is near equal to puts sold, the market is at risk."
   ]
  },
  {
   "cell_type": "markdown",
   "id": "09bf1a42",
   "metadata": {},
   "source": [
    "### Limitations\n",
    "\n",
    "The major limitation of this analysis is determining whether an option is bought or sold. Deciding whether an option is purchased or written depending on its trade price relative to the bid and ask is too simple of a methodology. For example, a call filled at the bid may not be a sell but rather a limit buy order. \n",
    "\n",
    "Another limitation is that this analysis cannot determine the reason behind an option trade. With this method, it is impossible to tell whether an option trade is to exit a position, add to a position, or part of a complex strategy.\n",
    "\n",
    "Thus, this sentiment inference indicator cannot be solely used for stock market analysis, but rather as another tool in the toolbox. \n",
    "\n",
    "Despite these restrictions, using this to have a peek behind the curtains is still better than continuing to meander blindly through the labyrinth that is the market.  "
   ]
  }
 ],
 "metadata": {
  "kernelspec": {
   "display_name": "Python 3 (ipykernel)",
   "language": "python",
   "name": "python3"
  },
  "language_info": {
   "codemirror_mode": {
    "name": "ipython",
    "version": 3
   },
   "file_extension": ".py",
   "mimetype": "text/x-python",
   "name": "python",
   "nbconvert_exporter": "python",
   "pygments_lexer": "ipython3",
   "version": "3.9.12"
  }
 },
 "nbformat": 4,
 "nbformat_minor": 5
}
